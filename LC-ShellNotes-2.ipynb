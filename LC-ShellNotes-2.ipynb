{
 "cells": [
  {
   "cell_type": "markdown",
   "metadata": {},
   "source": [
    "# Library Caprentry - Counting with the Shell Lesson 2 - part 1"
   ]
  },
  {
   "cell_type": "markdown",
   "metadata": {},
   "source": [
    "#### Objectives\n",
    "* understand how to count lines, words, and characters with the shell\n",
    "* understand how to mine files and extract matched lines with the shell\n",
    "* understand how to combine mining with the shell and regular expressions"
   ]
  },
  {
   "cell_type": "markdown",
   "metadata": {},
   "source": [
    "### Manipulating, counting and mining research data\n",
    "* Now you can work with the unix shell you can move onto learning how to count and mine data. \n",
    "* These are rather simple and are unlikely to totally revolutionise your work. \n",
    "* They are, however, alongside the consistent file structure and naming, they are the foundation of a more powerful set of commands that can count and mine your data.\n",
    "\n"
   ]
  },
  {
   "cell_type": "markdown",
   "metadata": {},
   "source": [
    "## Counting"
   ]
  },
  {
   "cell_type": "markdown",
   "metadata": {},
   "source": [
    "For this section, you will begin by counting the contents of files using the Unix shell. \n",
    "* The Unix shell can be used to quickly generate counts from across files, something that is tricky to achieve using the graphical user interfaces of standard office suites."
   ]
  },
  {
   "cell_type": "markdown",
   "metadata": {},
   "source": [
    "To get started, use the **cd** command to navigate to the directory that contains our data. \n",
    "* Remember, if at any time you are not sure where you are in your directory structure, type **pwd** and hit enter.\n",
    "\n"
   ]
  },
  {
   "cell_type": "code",
   "execution_count": 4,
   "metadata": {
    "collapsed": false
   },
   "outputs": [
    {
     "name": "stdout",
     "output_type": "stream",
     "text": [
      "/Users/rotsuji/desktop/libcarp-data-notes/data\r\n"
     ]
    }
   ],
   "source": [
    "pwd"
   ]
  },
  {
   "cell_type": "markdown",
   "metadata": {},
   "source": [
    "Type **ls -F** and then hit enter. This prints, or displays, a list of files and directories in the current directory"
   ]
  },
  {
   "cell_type": "code",
   "execution_count": 5,
   "metadata": {
    "collapsed": false
   },
   "outputs": [
    {
     "name": "stdout",
     "output_type": "stream",
     "text": [
      "2014-01-31_JA-africa.tsv*\teverything-together.txt\r\n",
      "2014-01-31_JA-america.tsv*\tfirstdir/\r\n",
      "2014-01_JA.tsv\t\t\tgallic.txt*\r\n",
      "2014-01_JA.tsv.zip\t\tgulliver-backup.txt*\r\n",
      "2014-02-01_JA-art .tsv*\t\tgulliver-twice.txt\r\n",
      "2014-02-02_JA-britain.tsv*\tgulliver.txt*\r\n",
      "829-0.txt*\r\n"
     ]
    }
   ],
   "source": [
    "ls -F"
   ]
  },
  {
   "cell_type": "markdown",
   "metadata": {},
   "source": [
    "### Explain The .tsv data files"
   ]
  },
  {
   "cell_type": "markdown",
   "metadata": {},
   "source": [
    "The files in this directory includes a zipeed and unzipped version of the dataset **2014-01_JA.tsv** that contains journal article metadata.  We unpacked this file at the beginning of the workshop."
   ]
  },
  {
   "cell_type": "markdown",
   "metadata": {},
   "source": [
    "Looking at the other data files, there are also four **.tsv** files derived from **2014-01_JA.tsv**. \n",
    "* Each of these four includes all data where a keyword such as africa or america appears in the ‘Title’ field of 2014-01_JA.tsv. \n"
   ]
  },
  {
   "cell_type": "markdown",
   "metadata": {},
   "source": [
    "### Note: "
   ]
  },
  {
   "cell_type": "markdown",
   "metadata": {},
   "source": [
    "**.TSV** files are those in which within each row the units of data (or cells) are **separated by tabs**. \n",
    "* They are similar to CSV (comma separated value) files were the values are separated by commas. \n",
    "* The latter are more common but can cause problems with the kind of data we have, where commas can be found within the cells (though with the right encoding this can be overcome). \n",
    "* Either way both can be read in simple text editors or in spreadsheet programs such as **Libre Office Calc or Microsoft Excel**."
   ]
  },
  {
   "cell_type": "markdown",
   "metadata": {},
   "source": [
    "Before we begin working with these files, lets double check we are in the right directory in which they are stored."
   ]
  },
  {
   "cell_type": "code",
   "execution_count": 7,
   "metadata": {
    "collapsed": false
   },
   "outputs": [
    {
     "name": "stdout",
     "output_type": "stream",
     "text": [
      "/Users/rotsuji/desktop/libcarp-data-notes/data\r\n"
     ]
    }
   ],
   "source": [
    "pwd"
   ]
  },
  {
   "cell_type": "markdown",
   "metadata": {},
   "source": [
    "Next we want to Count the contents of the files.\n",
    "* The Unix command for counting is **wc**.\n",
    "* Type **wc -w 2014-01-31_JA-africa.tsv** and hit enter. "
   ]
  },
  {
   "cell_type": "code",
   "execution_count": 8,
   "metadata": {
    "collapsed": false
   },
   "outputs": [
    {
     "name": "stdout",
     "output_type": "stream",
     "text": [
      "  511261 2014-01-31_JA-africa.tsv\r\n"
     ]
    }
   ],
   "source": [
    "wc -w 2014-01-31_JA-africa.tsv"
   ]
  },
  {
   "cell_type": "markdown",
   "metadata": {},
   "source": [
    "The file contains 511261 words.\n",
    "* The flag **-w** combined with wc instructs the computer to print a word count, and the name of the file that has been counted, into the shell.\n",
    "* As was seen earlier today flags such as **-w** are an essential part of getting the most out of the Unix shell as they give you better control over commands."
   ]
  },
  {
   "cell_type": "markdown",
   "metadata": {},
   "source": [
    "If your reader request or piece of work is more concerned with number of entries (or lines) than the number of words, you can use the **line count flag**. \n",
    "* Type **wc -l 2014-01-31_JA-africa.tsv** and hit enter. "
   ]
  },
  {
   "cell_type": "code",
   "execution_count": 9,
   "metadata": {
    "collapsed": false
   },
   "outputs": [
    {
     "name": "stdout",
     "output_type": "stream",
     "text": [
      "   13712 2014-01-31_JA-africa.tsv\r\n"
     ]
    }
   ],
   "source": [
    "wc -l 2014-01-31_JA-africa.tsv"
   ]
  },
  {
   "cell_type": "markdown",
   "metadata": {},
   "source": [
    "* Combined with wc the **flag -l** prints a line count and the name of the file that has been counted."
   ]
  },
  {
   "cell_type": "markdown",
   "metadata": {},
   "source": [
    "Finally, type **wc -c 2014-01-31_JA-africa.tsv** and hit enter. "
   ]
  },
  {
   "cell_type": "markdown",
   "metadata": {},
   "source": [
    "##### Note: OS X users should replace the -c flag with -m."
   ]
  },
  {
   "cell_type": "code",
   "execution_count": 10,
   "metadata": {
    "collapsed": false
   },
   "outputs": [
    {
     "name": "stdout",
     "output_type": "stream",
     "text": [
      " 3773660 2014-01-31_JA-africa.tsv\r\n"
     ]
    }
   ],
   "source": [
    "wc -m 2014-01-31_JA-africa.tsv"
   ]
  },
  {
   "cell_type": "markdown",
   "metadata": {},
   "source": [
    "This wc command uses the **flag -c** in combination with the **command wc** to print a **character count** for 2014-01-31_JA-africa.tsv "
   ]
  },
  {
   "cell_type": "markdown",
   "metadata": {},
   "source": [
    "With these three flags, the most obvious thing we can use **wc** for is to **quickly compare the shape of sources** in digital format:\n",
    "* for example word counts per page of a book, the distribution of characters per page across a collection of newspapers, the average line lengths used by poets. \n",
    "* You can also use **wc** with a combination of wildcards and flags to build more complex queries."
   ]
  },
  {
   "cell_type": "markdown",
   "metadata": {},
   "source": [
    "### Exercise - wc flags (2 mins)\n",
    "Can you guess what the line **wc -l 2014-01-31_JA-a*.tsv** will do?  (try running the command)"
   ]
  },
  {
   "cell_type": "code",
   "execution_count": 11,
   "metadata": {
    "collapsed": false
   },
   "outputs": [
    {
     "name": "stdout",
     "output_type": "stream",
     "text": [
      "   13712 2014-01-31_JA-africa.tsv\r\n",
      "   27392 2014-01-31_JA-america.tsv\r\n",
      "   41104 total\r\n"
     ]
    }
   ],
   "source": [
    "wc -l 2014-01-31_JA-a*.tsv"
   ]
  },
  {
   "cell_type": "markdown",
   "metadata": {},
   "source": [
    "This wc command prints the line counts for 2014-01-31_JA-africa.tsv and 2014-01-31_JA-america.tsv, offering a simple means of comparing these two sets of research data."
   ]
  },
  {
   "cell_type": "markdown",
   "metadata": {},
   "source": [
    "It may be faster if you only have a handful of files to compare the line count for the two documents in Libre Office Calc, Microsoft Excel, or a similar spreadsheet program. \n",
    "* But when wishing to compare the line count for tens, hundreds, or thousands of documents, the Unix shell has a clear speed advantage."
   ]
  },
  {
   "cell_type": "markdown",
   "metadata": {},
   "source": [
    "As datasets increase in size you can use the Unix shell to do more than copy these line counts by hand, by the use of print screen, or by copy and paste methods."
   ]
  },
  {
   "cell_type": "markdown",
   "metadata": {},
   "source": [
    "### wc redirect operator"
   ]
  },
  {
   "cell_type": "markdown",
   "metadata": {},
   "source": [
    "Using the **>** redirect operator we used earlier you can export query results to a new file for example:\n",
    "* type **wc -l 2014-01-31_JA-a*.tsv > DATE_JA-a-wc.txt** (or something like that, the last bit after results/ could be anything!) and hit enter. "
   ]
  },
  {
   "cell_type": "code",
   "execution_count": 14,
   "metadata": {
    "collapsed": false
   },
   "outputs": [
    {
     "name": "stdout",
     "output_type": "stream",
     "text": []
    }
   ],
   "source": [
    "wc -l 2014-01-31_JA-a*.tsv > DATE_JA-a-wc.txt"
   ]
  },
  {
   "cell_type": "markdown",
   "metadata": {},
   "source": [
    "Check to make sure the file was created."
   ]
  },
  {
   "cell_type": "code",
   "execution_count": 15,
   "metadata": {
    "collapsed": false
   },
   "outputs": [
    {
     "name": "stdout",
     "output_type": "stream",
     "text": [
      "2014-01-31_JA-africa.tsv*\tDATE_JA-a-wc.txt\r\n",
      "2014-01-31_JA-america.tsv*\teverything-together.txt\r\n",
      "2014-01_JA.tsv\t\t\tfirstdir/\r\n",
      "2014-01_JA.tsv.zip\t\tgallic.txt*\r\n",
      "2014-02-01_JA-art .tsv*\t\tgulliver-backup.txt*\r\n",
      "2014-02-02_JA-britain.tsv*\tgulliver-twice.txt\r\n",
      "829-0.txt*\t\t\tgulliver.txt*\r\n"
     ]
    }
   ],
   "source": [
    "ls -F"
   ]
  },
  {
   "cell_type": "markdown",
   "metadata": {},
   "source": [
    "This runs the same query as before, but rather than print the results within the Unix shell it saves the results as **DATE_JA_a-wc.txt**."
   ]
  },
  {
   "cell_type": "markdown",
   "metadata": {},
   "source": [
    "To check the results in the file\n",
    "* Type **head DATE_JA-a-wc.txt** to see the file contents in the shell (as it is 10 lines or fewer in length, all the file contents will be shown here)."
   ]
  },
  {
   "cell_type": "code",
   "execution_count": 16,
   "metadata": {
    "collapsed": false
   },
   "outputs": [
    {
     "name": "stdout",
     "output_type": "stream",
     "text": [
      "   13712 2014-01-31_JA-africa.tsv\r\n",
      "   27392 2014-01-31_JA-america.tsv\r\n",
      "   41104 total\r\n"
     ]
    }
   ],
   "source": [
    "head DATE_JA-a-wc.txt"
   ]
  },
  {
   "cell_type": "markdown",
   "metadata": {},
   "source": [
    "As you can see, the **redirect command** is useful to organize and group **wc** results in a single file.  "
   ]
  },
  {
   "cell_type": "markdown",
   "metadata": {},
   "source": [
    "## End of counting section."
   ]
  },
  {
   "cell_type": "code",
   "execution_count": null,
   "metadata": {
    "collapsed": true
   },
   "outputs": [],
   "source": []
  }
 ],
 "metadata": {
  "kernelspec": {
   "display_name": "Bash",
   "language": "bash",
   "name": "bash"
  },
  "language_info": {
   "codemirror_mode": "shell",
   "file_extension": ".sh",
   "mimetype": "text/x-sh",
   "name": "bash"
  }
 },
 "nbformat": 4,
 "nbformat_minor": 0
}
